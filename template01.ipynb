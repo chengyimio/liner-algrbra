{
 "cells": [
  {
   "cell_type": "markdown",
   "metadata": {
    "id": "kDACXMe7nuJo"
   },
   "source": [
    "# Linear algebra Homework assignment 3"
   ]
  },
  {
   "cell_type": "code",
   "execution_count": 49,
   "metadata": {
    "executionInfo": {
     "elapsed": 467,
     "status": "ok",
     "timestamp": 1729443642207,
     "user": {
      "displayName": "黃莉婷",
      "userId": "05775179293410531427"
     },
     "user_tz": -480
    },
    "id": "upxRk8bynuJr"
   },
   "outputs": [],
   "source": [
    "import numpy as np\n",
    "import math as m\n",
    "import matplotlib.pyplot as plt\n",
    "from mpl_toolkits.mplot3d.art3d import Poly3DCollection"
   ]
  },
  {
   "cell_type": "markdown",
   "metadata": {
    "id": "3wXjU9dHnuJr"
   },
   "source": [
    "## Problem 1 - 4"
   ]
  },
  {
   "cell_type": "code",
   "execution_count": 50,
   "metadata": {
    "executionInfo": {
     "elapsed": 6,
     "status": "ok",
     "timestamp": 1729443776204,
     "user": {
      "displayName": "黃莉婷",
      "userId": "05775179293410531427"
     },
     "user_tz": -480
    },
    "id": "uZnO49jjnuJs"
   },
   "outputs": [],
   "source": [
    "def compute_lookat(azim: float, elev: float):\n",
    "    \"\"\"\n",
    "    將方位角(azimuth)和仰角(elevation)轉換為觀察向量\n",
    "    azim: 方位角 [-180, 180]\n",
    "    elev: 仰角 [-180, 180]\n",
    "    \"\"\"\n",
    "    # 將角度轉換為弧度\n",
    "    azim_rad = np.radians(azim)\n",
    "    elev_rad = np.radians(elev)\n",
    "    \n",
    "    # 根據球面坐標系公式計算\n",
    "    x = np.cos(elev_rad) * np.sin(azim_rad)\n",
    "    y = -np.cos(elev_rad) * np.cos(azim_rad)\n",
    "    z = np.sin(elev_rad)\n",
    "    \n",
    "    lookat = np.array([x, y, z])\n",
    "    # 標準化向量\n",
    "    lookat = lookat / np.linalg.norm(lookat)\n",
    "    \n",
    "    return lookat"
   ]
  },
  {
   "cell_type": "code",
   "execution_count": 51,
   "metadata": {
    "executionInfo": {
     "elapsed": 8,
     "status": "ok",
     "timestamp": 1729443777734,
     "user": {
      "displayName": "黃莉婷",
      "userId": "05775179293410531427"
     },
     "user_tz": -480
    },
    "id": "_kvHRHu-nuJs"
   },
   "outputs": [],
   "source": [
    "def compute_normal(P1: tuple, P2: tuple, P3: tuple):\n",
    "    \"\"\"\n",
    "    計算三角形面的法向量\n",
    "    P1, P2, P3: 三角形三個頂點(逆時針順序)\n",
    "    \"\"\"\n",
    "    # 計算三角形兩邊的向量\n",
    "    v1 = np.array(P2) - np.array(P1)\n",
    "    v2 = np.array(P3) - np.array(P1)\n",
    "    \n",
    "    # 計算叉積得到法向量\n",
    "    normal = np.cross(v1, v2)\n",
    "    \n",
    "    # 標準化法向量\n",
    "    normal = normal / np.linalg.norm(normal)\n",
    "    \n",
    "    return normal"
   ]
  },
  {
   "cell_type": "code",
   "execution_count": 52,
   "metadata": {
    "executionInfo": {
     "elapsed": 502,
     "status": "ok",
     "timestamp": 1729443779837,
     "user": {
      "displayName": "黃莉婷",
      "userId": "05775179293410531427"
     },
     "user_tz": -480
    },
    "id": "18gbFGceowOH"
   },
   "outputs": [],
   "source": [
    "def visible(face_normal: np.ndarray, lookat: np.ndarray):\n",
    "    \"\"\"\n",
    "    判斷面是否可見\n",
    "    face_normal: 面的法向量\n",
    "    lookat: 觀察方向\n",
    "    \"\"\"\n",
    "    # 計算法向量與觀察方向的點積\n",
    "    # 如果點積 < 0,表示夾角>90度,面向觀察者\n",
    "    return np.dot(face_normal, lookat) < 0"
   ]
  },
  {
   "cell_type": "code",
   "execution_count": 53,
   "metadata": {
    "executionInfo": {
     "elapsed": 2,
     "status": "ok",
     "timestamp": 1729443780918,
     "user": {
      "displayName": "黃莉婷",
      "userId": "05775179293410531427"
     },
     "user_tz": -480
    },
    "id": "oUmo5WLzoz5_"
   },
   "outputs": [],
   "source": [
    "def compute_intensity(face_normal: np.ndarray, lookat: np.ndarray, lightsource: np.ndarray):\n",
    "    \"\"\"\n",
    "    計算光照強度\n",
    "    face_normal: 面的法向量\n",
    "    lookat: 觀察方向\n",
    "    lightsource: 光源方向\n",
    "    \"\"\"\n",
    "    # 計算反射向量 R = 2(N·L)N - L\n",
    "    NdotL = np.dot(face_normal, lightsource)\n",
    "    reflect = 2 * NdotL * face_normal - lightsource\n",
    "    \n",
    "    # 標準化反射向量\n",
    "    reflect = reflect / np.linalg.norm(reflect)\n",
    "    \n",
    "    # 計算反射向量與觀察向量的夾角餘弦值(cos β)\n",
    "    intensity = np.dot(reflect, -lookat)\n",
    "    \n",
    "    # 確保強度非負\n",
    "    intensity = max(0, intensity)\n",
    "    \n",
    "    return intensity"
   ]
  },
  {
   "cell_type": "markdown",
   "metadata": {
    "id": "CZExOaUJnuJt"
   },
   "source": [
    "## Problem 5\n",
    "Perform at least two tasks from the following list, and describe what you have done\n",
    "\n",
    "- Change a model (please choose a convex object).\n",
    "- Give each face of the model a different color.\n",
    "- Change the movemnt of the light source.\n",
    "- Other interesting changes"
   ]
  },
  {
   "cell_type": "code",
   "execution_count": 54,
   "metadata": {},
   "outputs": [],
   "source": [
    "def read_obj_file(file_path):\n",
    "    vertices = []\n",
    "    faces = []\n",
    "\n",
    "    with open(file_path, 'r') as file:\n",
    "        for line in file:\n",
    "            if line.startswith('v '):\n",
    "                vertex = list(map(float, line.strip().split()[1:]))\n",
    "                vertices.append(vertex)\n",
    "            elif line.startswith('f '):\n",
    "                face = [int(index.split('/')[0]) for index in line.strip().split()[1:]]\n",
    "                faces.append(face)\n",
    "\n",
    "    return np.array(vertices), np.array(faces)"
   ]
  },
  {
   "cell_type": "code",
   "execution_count": null,
   "metadata": {
    "colab": {
     "base_uri": "https://localhost:8080/",
     "height": 332
    },
    "executionInfo": {
     "elapsed": 495,
     "status": "error",
     "timestamp": 1729443787425,
     "user": {
      "displayName": "黃莉婷",
      "userId": "05775179293410531427"
     },
     "user_tz": -480
    },
    "id": "uVmsPaS0rLo1",
    "outputId": "aa2a3653-af05-49f6-af1a-7dc53a209df4"
   },
   "outputs": [
    {
     "ename": "IndexError",
     "evalue": "index 12 is out of bounds for axis 0 with size 12",
     "output_type": "error",
     "traceback": [
      "\u001b[1;31m---------------------------------------------------------------------------\u001b[0m",
      "\u001b[1;31mIndexError\u001b[0m                                Traceback (most recent call last)",
      "Cell \u001b[1;32mIn[55], line 42\u001b[0m\n\u001b[0;32m     39\u001b[0m \u001b[38;5;66;03m# 遍歷每個面\u001b[39;00m\n\u001b[0;32m     40\u001b[0m \u001b[38;5;28;01mfor\u001b[39;00m face \u001b[38;5;129;01min\u001b[39;00m faces:\n\u001b[0;32m     41\u001b[0m     \u001b[38;5;66;03m# 獲取面的三個頂點\u001b[39;00m\n\u001b[1;32m---> 42\u001b[0m     vertices_face \u001b[38;5;241m=\u001b[39m \u001b[43mvertices\u001b[49m\u001b[43m[\u001b[49m\u001b[43mface\u001b[49m\u001b[43m]\u001b[49m\n\u001b[0;32m     44\u001b[0m     \u001b[38;5;66;03m# 計算面的法向量\u001b[39;00m\n\u001b[0;32m     45\u001b[0m     normal \u001b[38;5;241m=\u001b[39m compute_normal(vertices_face[\u001b[38;5;241m0\u001b[39m], vertices_face[\u001b[38;5;241m1\u001b[39m], vertices_face[\u001b[38;5;241m2\u001b[39m])\n",
      "\u001b[1;31mIndexError\u001b[0m: index 12 is out of bounds for axis 0 with size 12"
     ]
    },
    {
     "data": {
      "image/png": "[encoded data removed]",
      "text/plain": [
       "<Figure size 640x480 with 1 Axes>"
      ]
     },
     "metadata": {},
     "output_type": "display_data"
    }
   ],
   "source": [
    "# The code below is just some hint for you. Feel free to modify anything if you want!\n",
    "\n",
    "# Read .obj file\n",
    "obj_file_path = 'icosahedron_modified.obj'\n",
    "vertices, faces = read_obj_file(obj_file_path)\n",
    "\n",
    "center = np.mean(vertices, axis=0)\n",
    "vertices = vertices - center\n",
    "\n",
    "max_x = np.max(vertices[:, 0])\n",
    "min_x = np.min(vertices[:, 0])\n",
    "max_y = np.max(vertices[:, 1])\n",
    "min_y = np.min(vertices[:, 1])\n",
    "max_z = np.max(vertices[:, 2])\n",
    "min_z = np.min(vertices[:, 2])\n",
    "\n",
    "\n",
    "# Plot vertices\n",
    "fig = plt.figure()\n",
    "ax = plt.axes(projection='3d')\n",
    "ax.set_axis_off()\n",
    "ax.set_xlim(min_x, max_x), ax.set_ylim(min_y, max_y), ax.set_zlim(min_z, max_z)\n",
    "ax.view_init(azim=60, elev=30)\n",
    "\n",
    "lookat = compute_lookat(ax.azim, ax.elev)\n",
    "basecolor = np.array([0, 1, 0.7])\n",
    "\n",
    "phi = 2 * np.pi\n",
    "lightsource = np.array([np.cos(phi), np.sin(phi), np.sin(phi)])\n",
    "lightsource = lightsource / np.linalg.norm(lightsource)\n",
    "\n",
    "# [TODO] Plot faces\n",
    "######## write you code below\n",
    "\n",
    "\n",
    "#########\n",
    "\n",
    "#plt.show()\n",
    "studentID = 'your_student_id'  # replace to your own studentID!\n",
    "fname = f'HW3 {studentID}.png'\n",
    "plt.savefig(fname)\n"
   ]
  },
  {
   "cell_type": "markdown",
   "metadata": {
    "id": "XoU755G_rL_e"
   },
   "source": [
    "## Problem 6\n",
    "There is a type of terms, called **vn** (vertex normal), in the obj file.\n",
    "However, it record vn as each\n",
    "\n",
    "Please look up the definition of vertex normal and implement it accordingly. The OBJ\n",
    "file with the corrected vertex normals is icosahedron modified.obj."
   ]
  },
  {
   "cell_type": "code",
   "execution_count": null,
   "metadata": {
    "id": "YLLNgGj0rNY4"
   },
   "outputs": [],
   "source": [
    "from collections import defaultdict\n",
    "\n",
    "def load_obj(file_path):\n",
    "    vertices = []\n",
    "    faces = []\n",
    "    vertex_normals = []\n",
    "\n",
    "    with open(file_path, 'r') as f:\n",
    "        for line in f:\n",
    "            line = line.strip()\n",
    "            if not line or line.startswith('#'):\n",
    "                continue\n",
    "\n",
    "            values = line.split()\n",
    "            if not values:\n",
    "                continue\n",
    "\n",
    "            if values[0] == 'v':\n",
    "                vertices.append([float(x) for x in values[1:4]])\n",
    "            elif values[0] == 'vn':\n",
    "                vertex_normals.append([float(x) for x in values[1:4]])\n",
    "            elif values[0] == 'f':\n",
    "                vertex_indices = []\n",
    "                normal_indices = []\n",
    "\n",
    "                for vertex in values[1:]:\n",
    "                    # deal with v//vn \n",
    "                    if '//' in vertex:\n",
    "                        v_idx, _, n_idx = vertex.split('/')\n",
    "                        vertex_indices.append(int(v_idx) - 1)  \n",
    "                        normal_indices.append(int(n_idx) - 1)\n",
    "                    # deal with v\n",
    "                    else:\n",
    "                        vertex_indices.append(int(vertex) - 1)\n",
    "\n",
    "                faces.append(vertex_indices)  \n",
    "\n",
    "    return np.array(vertices), np.array(faces), np.array(vertex_normals)"
   ]
  },
  {
   "cell_type": "code",
   "execution_count": null,
   "metadata": {},
   "outputs": [],
   "source": [
    "def compute_vertex_normals(vertices, faces):\n",
    "    \"\"\"\n",
    "    計算頂點法向量\n",
    "    vertices: 頂點座標陣列\n",
    "    faces: 面的頂點索引陣列\n",
    "    \"\"\"\n",
    "    vertex_normals = np.zeros_like(vertices)\n",
    "    vertex_counts = np.zeros(len(vertices))\n",
    "    \n",
    "    # 遍歷所有面\n",
    "    for face in faces:\n",
    "        # 取得三個頂點\n",
    "        v1, v2, v3 = vertices[face[0]], vertices[face[1]], vertices[face[2]]\n",
    "        \n",
    "        # 計算面法向量\n",
    "        normal = compute_normal(v1, v2, v3)\n",
    "        \n",
    "        # 將面法向量加到相關頂點\n",
    "        vertex_normals[face[0]] += normal\n",
    "        vertex_normals[face[1]] += normal\n",
    "        vertex_normals[face[2]] += normal\n",
    "        \n",
    "        # 記錄每個頂點參與的面數\n",
    "        vertex_counts[face[0]] += 1\n",
    "        vertex_counts[face[1]] += 1\n",
    "        vertex_counts[face[2]] += 1\n",
    "    \n",
    "    # 對每個頂點法向量取平均\n",
    "    for i in range(len(vertex_normals)):\n",
    "        if vertex_counts[i] > 0:\n",
    "            vertex_normals[i] = vertex_normals[i] / vertex_counts[i]\n",
    "            # 標準化\n",
    "            vertex_normals[i] = vertex_normals[i] / np.linalg.norm(vertex_normals[i])\n",
    "    \n",
    "    return vertex_normals"
   ]
  },
  {
   "cell_type": "code",
   "execution_count": null,
   "metadata": {},
   "outputs": [
    {
     "name": "stdout",
     "output_type": "stream",
     "text": [
      "PASS\n"
     ]
    }
   ],
   "source": [
    "obj_path = \"icosahedron_modified.obj\"\n",
    "vertices, faces, vn = load_obj(obj_path)\n",
    "vertex_normals = compute_vertex_normals(vertices, faces)\n",
    "\n",
    "# print(\"vertex normal：\")\n",
    "# for i, normal in enumerate(vertex_normals):\n",
    "#     print(f\"v{i+1:02d} normal: [{normal[0]:.6f}, {normal[1]:.6f}, {normal[2]:.6f}]\")\n",
    "\n",
    "if (np.allclose(vertex_normals, vn)):\n",
    "    print(\"PASS\")\n",
    "else :\n",
    "    print(\"ERROR\")"
   ]
  }
 ],
 "metadata": {
  "colab": {
   "provenance": []
  },
  "kernelspec": {
   "display_name": "Python 3",
   "language": "python",
   "name": "python3"
  },
  "language_info": {
   "codemirror_mode": {
    "name": "ipython",
    "version": 3
   },
   "file_extension": ".py",
   "mimetype": "text/x-python",
   "name": "python",
   "nbconvert_exporter": "python",
   "pygments_lexer": "ipython3",
   "version": "3.10.10"
  }
 },
 "nbformat": 4,
 "nbformat_minor": 0
}
